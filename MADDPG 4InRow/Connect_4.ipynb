{
 "cells": [
  {
   "cell_type": "markdown",
   "metadata": {},
   "source": [
    "https://gist.github.com/programming-datascience/d8b96346e347b0b6942e16a33e64039c#file-actor-critic-cartpole-ipynb"
   ]
  },
  {
   "cell_type": "code",
   "execution_count": 1,
   "metadata": {},
   "outputs": [],
   "source": [
    "# Importing libraries\n",
    "# import gym\n",
    "from pettingzoo.classic import connect_four_v3\n",
    "import numpy as np\n",
    "from itertools import count\n",
    "from collections import namedtuple, deque\n",
    "from time import sleep\n",
    "# import supersuit as ss"
   ]
  },
  {
   "cell_type": "code",
   "execution_count": 2,
   "metadata": {},
   "outputs": [],
   "source": [
    "import torch\n",
    "import torch.nn as nn\n",
    "import torch.nn.functional as F\n",
    "import torch.optim as optim\n",
    "from torch.distributions import Categorical\n",
    "# Importing PyTorch here\n",
    "import matplotlib.pyplot as plt"
   ]
  },
  {
   "cell_type": "code",
   "execution_count": 3,
   "metadata": {},
   "outputs": [],
   "source": [
    "SavedAction = namedtuple('SavedAction', ['log_prob', 'value'])"
   ]
  },
  {
   "cell_type": "code",
   "execution_count": 4,
   "metadata": {},
   "outputs": [
    {
     "name": "stdout",
     "output_type": "stream",
     "text": [
      "{'player_0': Dict(action_mask:Box(7,), observation:Box(6, 7, 2)), 'player_1': Dict(action_mask:Box(7,), observation:Box(6, 7, 2))}\n",
      "{'player_0': Discrete(7), 'player_1': Discrete(7)}\n"
     ]
    }
   ],
   "source": [
    "env = connect_four_v3.env()\n",
    "# env = ss.resize_v0(env, x_size=84, y_size=84)\n",
    "print(env.observation_spaces)\n",
    "print(env.action_spaces)"
   ]
  },
  {
   "cell_type": "code",
   "execution_count": 5,
   "metadata": {},
   "outputs": [],
   "source": [
    "# You can move either left or right to balance the pole\n",
    "# Lets implement the Actor critic network\n",
    "class ActorCritic(nn.Module):\n",
    "    def __init__(self, name, obs_shape, act_shape, buffer_size, lr=1e-2):\n",
    "        super(ActorCritic, self).__init__()\n",
    "        self.obs_shape = obs_shape\n",
    "        self.name = name\n",
    "        self.games_played = 0\n",
    "        self.wins = 0\n",
    "        self.history = deque(maxlen=1000000)\n",
    "        self.conv1 = nn.Conv2d(2, 8, 2)\n",
    "        self.bn1 = nn.BatchNorm2d(8)\n",
    "        self.conv2 = nn.Conv2d(8, 12, 2)\n",
    "        self.bn2 = nn.BatchNorm2d(12)\n",
    "#         self.maxpool1 = nn.MaxPool2d(2)\n",
    "        \n",
    "        self.fc1 = nn.Linear(self.calc_input_size(), 64)\n",
    "        self.actor = nn.Linear(64, act_shape) \n",
    "        self.critic = nn.Linear(64, 1) # Critic is always 1\n",
    "        self.saved_actions = deque(maxlen=buffer_size)\n",
    "        self.rewards = deque(maxlen=buffer_size)\n",
    "        self.optimizer = optim.Adam(self.parameters(), lr=lr)\n",
    "        self.trust = 0.35 # trust to new values\n",
    "        \n",
    "    def calc_input_size(self):\n",
    "        m = self.conv1(torch.zeros((1,)+self.obs_shape))\n",
    "#         print(m.shape)\n",
    "        m = self.bn1(m)\n",
    "#         print(m.shape)\n",
    "        m = self.conv2(m)\n",
    "#         print(m.shape)\n",
    "#         m = self.maxpool1(m)\n",
    "#         print(m.shape)\n",
    "        return int(np.prod(m.size()))\n",
    "        \n",
    "    def forward(self, x):\n",
    "        x = F.relu(self.conv1(x.view((1,)+self.obs_shape)))\n",
    "        x = self.bn1(x)\n",
    "        x = F.relu(self.conv2(x))\n",
    "        x = self.bn2(x)\n",
    "#         x = self.maxpool1(x)\n",
    "        x = F.relu(self.fc1(x.reshape(x.size()[0], -1)))\n",
    "        action_prob = F.softmax(self.actor(x), dim=-1)\n",
    "        state_values = self.critic(x)\n",
    "        return action_prob, state_values\n",
    "    \n",
    "    def select_action(self, state, mask):\n",
    "        state = torch.from_numpy(state).float()\n",
    "        probs, state_value = self.forward(state)\n",
    "        mask = torch.from_numpy(mask)\n",
    "#         print(probs)\n",
    "        m = Categorical(probs * mask)\n",
    "        try:\n",
    "            action = m.sample()\n",
    "        except RuntimeError:\n",
    "            action = torch.argmax(mask)\n",
    "#         action = torch.argmax(probs * mask)\n",
    "        self.saved_actions.append(SavedAction(m.log_prob(action), state_value))\n",
    "        return action.item()\n",
    "        # In this function, we decide whehter we want the block to move left or right,based on what the model decided\n",
    "        \n",
    "    def finish_episode(self):\n",
    "        # We calculate the losses and perform backprop in this function\n",
    "        R = 0\n",
    "        saved_actions = [x for x in self.saved_actions]\n",
    "    #     log_prob = torch.tensor([x.log_prob for x in model.saved_actions])\n",
    "    #     value = \n",
    "        policy_losses = []\n",
    "        value_losses =[]\n",
    "        returns = []\n",
    "        rewards = [x for x in self.rewards]\n",
    "\n",
    "        for r in rewards[::-1]:\n",
    "            R = r + 0.99 * R # 0.99 is our gamma number\n",
    "            returns.insert(0, R)\n",
    "        returns = torch.tensor(returns)\n",
    "        returns = (returns - returns.mean()) / (returns.std() + eps)\n",
    "\n",
    "        for (log_prob, value), R in zip(saved_actions, returns):\n",
    "#             advantage = R - value.item()\n",
    "            advantage = (R - value.item()) * self.trust\n",
    "\n",
    "            policy_losses.append(-log_prob * advantage)\n",
    "#             value_losses.append(F.smooth_l1_loss(value, torch.tensor([[R]])))\n",
    "            value_losses.append(F.smooth_l1_loss(value, value + torch.tensor([[advantage]])))\n",
    "\n",
    "        self.optimizer.zero_grad()\n",
    "        loss = torch.stack(policy_losses).sum() + torch.stack(value_losses).sum()\n",
    "        loss.float().backward()\n",
    "        self.optimizer.step()\n",
    "\n",
    "    #     del model.rewards[:]\n",
    "    #     del model.saved_actions[:]\n",
    "        self.rewards.clear()\n",
    "        self.saved_actions.clear()\n",
    "    \n",
    "    def save(self, suff=''):\n",
    "        if len(suff) > 0:\n",
    "            suff = '_'+suff\n",
    "        torch.save(self.state_dict(), f\"Connect4_models/Connect4_{self.name}{suff}.pt\")\n",
    "        \n",
    "    def load(self, suff=''):\n",
    "        if len(suff) > 0:\n",
    "            suff = '_'+suff\n",
    "        self.load_state_dict(torch.load(f\"Connect4_models/Connect4_{self.name}{suff}.pt\"))\n",
    "        \n",
    "    def game_done(self, reward):\n",
    "        self.games_played += 1\n",
    "        self.wins += 1 if reward > 0 else 0\n",
    "        self.history.append(reward)"
   ]
  },
  {
   "cell_type": "code",
   "execution_count": 6,
   "metadata": {},
   "outputs": [],
   "source": [
    "def train(episodes_max, t_max=1000):\n",
    "#     print('target reward:', env.spec.reward_threshold)\n",
    "    running_reward = 0\n",
    "    for i_episode in range(episodes_max): # We need around this much episodes\n",
    "        env.reset()\n",
    "        ep_reward = 0\n",
    "        reward = [0,0]\n",
    "        done = [0,0]\n",
    "        for t in range(t_max):\n",
    "            state, reward[t%2], done[t%2], _ = env.last()\n",
    "            reward[t%2] = float(reward[t%2])\n",
    "            players[t%2].rewards.append(reward[t%2])\n",
    "            if done[t%2]:\n",
    "                if all(done):\n",
    "                    players[t%2].game_done(reward[t%2])\n",
    "                    players[(t+1)%2].game_done(reward[(t+1)%2])\n",
    "                    break\n",
    "                env.step(None)\n",
    "                continue\n",
    "            action = players[t%2].select_action(state['observation'], state['action_mask'])\n",
    "#             ep_reward += reward\n",
    "            env.step(action)\n",
    "            \n",
    "            \n",
    "        running_reward = 0.05 * ep_reward + (1-0.05) * running_reward\n",
    "        model_1.finish_episode()\n",
    "        model_2.finish_episode()\n",
    "\n",
    "        print(\"\\rEpisode {}\\tmodel_1 wins: {:.2f}\\tmodel_2 wins: {:.2f}\".format(\n",
    "                i_episode + 1, model_1.wins, model_2.wins\n",
    "            ), end=' '*10)\n",
    "        if (i_episode + 1) % 100 == 0: # We will print some things out\n",
    "            print(\"\\rEpisode {}\\tmodel_1 wins: {:.2f}\\tmodel_2 wins: {:.2f}\".format(\n",
    "                i_episode + 1, model_1.wins, model_2.wins\n",
    "            ), end=' '*10)\n",
    "            print()\n",
    "            model_1.save('last')\n",
    "            model_2.save('last')\n",
    "                  "
   ]
  },
  {
   "cell_type": "code",
   "execution_count": 7,
   "metadata": {},
   "outputs": [],
   "source": [
    "saved_model = False\n",
    "buffer_size = 50000\n",
    "\n",
    "obs = env.observation_spaces['player_0'].spaces['observation'].shape\n",
    "mask = env.observation_spaces['player_0'].spaces['action_mask'].shape[0]\n",
    "# obs = obs[0] * obs[1] * obs[2] + mask\n",
    "\n",
    "model_1 = ActorCritic('model1', obs[::-1], env.action_spaces['player_0'].n, buffer_size, lr=5e-4)\n",
    "model_2 = ActorCritic('model2', obs[::-1], env.action_spaces['player_0'].n, buffer_size, lr=1e-4)\n",
    "players = [model_1, model_2]\n",
    "\n",
    "if saved_model:\n",
    "    model_1.load('last')\n",
    "    model_2.load('last')\n",
    "    print('saves loaded')\n",
    "\n",
    "eps = np.finfo(np.float32).eps.item()"
   ]
  },
  {
   "cell_type": "markdown",
   "metadata": {},
   "source": [
    "* I tried to lower lr and found that less lr learns better and wins another model, __But! it`s in the beggining__  \n",
    "after ~2000-3000 games model with bigger learning rate wins more"
   ]
  },
  {
   "cell_type": "code",
   "execution_count": 133,
   "metadata": {
    "scrolled": true
   },
   "outputs": [
    {
     "name": "stdout",
     "output_type": "stream",
     "text": [
      "Episode 1\tmodel_1 wins: 4080.00\tmodel_2 wins: 3905.00          \n",
      "Episode 101\tmodel_1 wins: 4143.00\tmodel_2 wins: 3942.00                                                                     \n",
      "Episode 201\tmodel_1 wins: 4200.00\tmodel_2 wins: 3985.00                                                                                                    \n",
      "Episode 301\tmodel_1 wins: 4259.00\tmodel_2 wins: 4026.00                                                                                                                                  \n",
      "Episode 401\tmodel_1 wins: 4317.00\tmodel_2 wins: 4068.00                                                                                                                        \n",
      "Episode 501\tmodel_1 wins: 4376.00\tmodel_2 wins: 4109.00                                                                                          \n",
      "Episode 601\tmodel_1 wins: 4437.00\tmodel_2 wins: 4148.00                                                                                                              \n",
      "Episode 701\tmodel_1 wins: 4507.00\tmodel_2 wins: 4178.00                                                                                                                        \n",
      "Episode 801\tmodel_1 wins: 4583.00\tmodel_2 wins: 4202.00                                                                                                                                            \n",
      "Episode 901\tmodel_1 wins: 4639.00\tmodel_2 wins: 4246.00                                                                                                    \n",
      "Episode 1001\tmodel_1 wins: 4699.00\tmodel_2 wins: 4286.00                                       \n",
      "Episode 1101\tmodel_1 wins: 4762.00\tmodel_2 wins: 4323.00                                                  \n",
      "Episode 1201\tmodel_1 wins: 4835.00\tmodel_2 wins: 4350.00                                                                                                                        \n",
      "Episode 1301\tmodel_1 wins: 4905.00\tmodel_2 wins: 4380.00                                                                                                              \n",
      "Episode 1401\tmodel_1 wins: 4966.00\tmodel_2 wins: 4419.00                                                                                          \n",
      "Episode 1501\tmodel_1 wins: 5027.00\tmodel_2 wins: 4458.00                                                            \n",
      "Episode 1601\tmodel_1 wins: 5088.00\tmodel_2 wins: 4497.00                                                                                                    \n",
      "Episode 1701\tmodel_1 wins: 5143.00\tmodel_2 wins: 4542.00                                                                                                                                  \n",
      "Episode 1801\tmodel_1 wins: 5201.00\tmodel_2 wins: 4584.00                                                                                                                                            \n",
      "Episode 1901\tmodel_1 wins: 5266.00\tmodel_2 wins: 4619.00                                                                                                                                                      \n",
      "Episode 2001\tmodel_1 wins: 5321.00\tmodel_2 wins: 4664.00                                                            \n",
      "Episode 2101\tmodel_1 wins: 5394.00\tmodel_2 wins: 4691.00                                                                                                              \n",
      "Episode 2201\tmodel_1 wins: 5461.00\tmodel_2 wins: 4724.00                                                                                                                                  \n",
      "Episode 2301\tmodel_1 wins: 5507.00\tmodel_2 wins: 4778.00                                                                                                              \n",
      "Episode 2401\tmodel_1 wins: 5550.00\tmodel_2 wins: 4835.00                                                                                                    \n",
      "Episode 2501\tmodel_1 wins: 5600.00\tmodel_2 wins: 4885.00                                                                                                    \n",
      "Episode 2601\tmodel_1 wins: 5643.00\tmodel_2 wins: 4942.00                                                                                                    \n",
      "Episode 2701\tmodel_1 wins: 5702.00\tmodel_2 wins: 4983.00                                                                                                                                            \n",
      "Episode 2801\tmodel_1 wins: 5761.00\tmodel_2 wins: 5024.00                                                                                                                        \n",
      "Episode 2901\tmodel_1 wins: 5819.00\tmodel_2 wins: 5066.00                                                                                                                        \n",
      "Episode 3001\tmodel_1 wins: 5877.00\tmodel_2 wins: 5108.00                                                                                                                                  \n",
      "Episode 3101\tmodel_1 wins: 5933.00\tmodel_2 wins: 5152.00                                                                                                                                  \n",
      "Episode 3201\tmodel_1 wins: 5991.00\tmodel_2 wins: 5193.00                                                                                                                                  \n",
      "Episode 3301\tmodel_1 wins: 6051.00\tmodel_2 wins: 5233.00                                                                                                                                  \n",
      "Episode 3401\tmodel_1 wins: 6106.00\tmodel_2 wins: 5278.00                                                                                \n",
      "Episode 3501\tmodel_1 wins: 6148.00\tmodel_2 wins: 5336.00                                                                                                                                                      \n",
      "Episode 3601\tmodel_1 wins: 6193.00\tmodel_2 wins: 5391.00                                                                                \n",
      "Episode 3701\tmodel_1 wins: 6250.00\tmodel_2 wins: 5434.00                                                                                                                        \n",
      "Episode 3801\tmodel_1 wins: 6288.00\tmodel_2 wins: 5496.00                                                                                                                        \n",
      "Episode 3901\tmodel_1 wins: 6315.00\tmodel_2 wins: 5569.00                                                                                          \n",
      "Episode 4001\tmodel_1 wins: 6352.00\tmodel_2 wins: 5632.00                                                                                                                        \n",
      "Episode 4101\tmodel_1 wins: 6406.00\tmodel_2 wins: 5677.00                                                                                                                                  \n",
      "Episode 4201\tmodel_1 wins: 6453.00\tmodel_2 wins: 5730.00                                                                                \n",
      "Episode 4301\tmodel_1 wins: 6511.00\tmodel_2 wins: 5772.00                                                            \n",
      "Episode 4401\tmodel_1 wins: 6546.00\tmodel_2 wins: 5837.00                                                                                \n",
      "Episode 4501\tmodel_1 wins: 6573.00\tmodel_2 wins: 5909.00                                                                      \n",
      "Episode 4601\tmodel_1 wins: 6603.00\tmodel_2 wins: 5979.00                                                                                          \n",
      "Episode 4701\tmodel_1 wins: 6633.00\tmodel_2 wins: 6049.00                                                                                                              \n",
      "Episode 4801\tmodel_1 wins: 6687.00\tmodel_2 wins: 6095.00                                                            \n",
      "Episode 4901\tmodel_1 wins: 6739.00\tmodel_2 wins: 6143.00                                                                                          \n",
      "Episode 5000\tmodel_1 wins: 6789.00\tmodel_2 wins: 6192.00                                                                                                                        "
     ]
    }
   ],
   "source": [
    "t_max = 500\n",
    "episodes_max = 5000\n",
    "train(episodes_max, t_max)"
   ]
  },
  {
   "cell_type": "code",
   "execution_count": 126,
   "metadata": {},
   "outputs": [
    {
     "data": {
      "text/plain": [
       "(array([-1.,  0.,  1.]), array([1081,    6,  913], dtype=int64))"
      ]
     },
     "execution_count": 126,
     "metadata": {},
     "output_type": "execute_result"
    }
   ],
   "source": [
    "np.unique(np.array(model_1.history), return_counts=True)"
   ]
  },
  {
   "cell_type": "code",
   "execution_count": 127,
   "metadata": {},
   "outputs": [
    {
     "name": "stdout",
     "output_type": "stream",
     "text": [
      "model_1.wins = 913; games_played = 2000\n",
      "model_2.wins = 1081; games_played = 2000\n"
     ]
    }
   ],
   "source": [
    "print(f'{model_1.wins = }; games_played = {model_1.games_played}')\n",
    "print(f'{model_2.wins = }; games_played = {model_2.games_played}')"
   ]
  },
  {
   "cell_type": "markdown",
   "metadata": {},
   "source": [
    "# There. we finished\n",
    "### Lets see it in action"
   ]
  },
  {
   "cell_type": "code",
   "execution_count": 8,
   "metadata": {},
   "outputs": [
    {
     "name": "stdout",
     "output_type": "stream",
     "text": [
      "pygame 2.0.1 (SDL 2.0.14, Python 3.8.5)\n",
      "Hello from the pygame community. https://www.pygame.org/contribute.html\n",
      "pl1_wins = 4\tpl2_wins = 1\n"
     ]
    }
   ],
   "source": [
    "pl1_wins = 0\n",
    "pl2_wins = 0\n",
    "\n",
    "\n",
    "with torch.no_grad():\n",
    "    for _ in range(5):\n",
    "        env.reset()\n",
    "        reward = [0,0]\n",
    "        done = [0,0]\n",
    "        for t in range(100):\n",
    "            state, reward[t%2], done[t%2], _ = env.last()\n",
    "            env.render()\n",
    "            if done[t%2]:\n",
    "                if all(done):\n",
    "                    locals()[f'pl{t%2+1}_wins'] += 1 if reward[t%2] > 0 else 0\n",
    "                    locals()[f'pl{(t+1)%2+1}_wins'] += 1 if reward[(t+1)%2] > 0 else 0\n",
    "                    break\n",
    "                env.step(None)\n",
    "                continue\n",
    "            action = players[t%2].select_action(state['observation'], state['action_mask'])\n",
    "            env.step(action)\n",
    "            sleep(0.1)\n",
    "    env.close()\n",
    "print(f'{pl1_wins = }\\t{pl2_wins = }')"
   ]
  },
  {
   "cell_type": "code",
   "execution_count": 10,
   "metadata": {},
   "outputs": [
    {
     "data": {
      "text/plain": [
       "4"
      ]
     },
     "execution_count": 10,
     "metadata": {},
     "output_type": "execute_result"
    }
   ],
   "source": [
    "players[0].select_action(state['observation'].flatten(), state['action_mask'])"
   ]
  },
  {
   "cell_type": "code",
   "execution_count": 52,
   "metadata": {},
   "outputs": [],
   "source": [
    "!start ."
   ]
  },
  {
   "cell_type": "code",
   "execution_count": 66,
   "metadata": {},
   "outputs": [],
   "source": [
    "(m1_sign),(m1_count) = np.unique(np.array(model_1.history), return_counts=True)\n",
    "(m2_sign),(m2_count) = np.unique(np.array(model_1.history), return_counts=True)"
   ]
  },
  {
   "cell_type": "code",
   "execution_count": 67,
   "metadata": {},
   "outputs": [],
   "source": [
    "def _w_only(x):\n",
    "    if x < 0:\n",
    "        return 0\n",
    "    return x\n",
    "    \n",
    "wins_only = np.vectorize(_w_only)"
   ]
  },
  {
   "cell_type": "code",
   "execution_count": 68,
   "metadata": {},
   "outputs": [],
   "source": [
    "m1_wins = np.cumsum(wins_only(model_1.history))\n",
    "m2_wins = np.cumsum(wins_only(model_2.history))"
   ]
  },
  {
   "cell_type": "code",
   "execution_count": 69,
   "metadata": {},
   "outputs": [
    {
     "data": {
      "image/png": "[encoded data removed]",
      "text/plain": [
       "<Figure size 432x288 with 1 Axes>"
      ]
     },
     "metadata": {
      "needs_background": "light"
     },
     "output_type": "display_data"
    }
   ],
   "source": [
    "plt.plot(m1_wins, label='lr=5e-4')\n",
    "plt.plot(m2_wins, label='lr=1e-4')\n",
    "plt.legend()\n",
    "plt.grid()\n",
    "plt.savefig('results2.png')\n",
    "plt.show()"
   ]
  },
  {
   "cell_type": "code",
   "execution_count": 9,
   "metadata": {},
   "outputs": [
    {
     "name": "stderr",
     "output_type": "stream",
     "text": [
      "[INFO   ] [Logger      ] Record log in C:\\Users\\otnie\\.kivy\\logs\\kivy_21-08-19_1.txt\n",
      "[INFO   ] [deps        ] Successfully imported \"kivy_deps.angle\" 0.3.0\n",
      "[INFO   ] [deps        ] Successfully imported \"kivy_deps.glew\" 0.3.0\n",
      "[INFO   ] [deps        ] Successfully imported \"kivy_deps.sdl2\" 0.3.1\n",
      "[INFO   ] [Kivy        ] v2.0.0\n",
      "[INFO   ] [Kivy        ] Installed at \"D:\\Programming\\anaconda3\\lib\\site-packages\\kivy\\__init__.py\"\n",
      "[INFO   ] [Python      ] v3.8.5 (default, Sep  3 2020, 21:29:08) [MSC v.1916 64 bit (AMD64)]\n",
      "[INFO   ] [Python      ] Interpreter at \"D:\\Programming\\anaconda3\\python.exe\"\n",
      "[INFO   ] [Factory     ] 186 symbols loaded\n",
      "[INFO   ] [Image       ] Providers: img_tex, img_dds, img_sdl2, img_pil (img_ffpyplayer ignored)\n",
      "[INFO   ] [Text        ] Provider: sdl2\n",
      "[INFO   ] [Window      ] Provider: sdl2\n",
      "[INFO   ] [GL          ] Using the \"OpenGL\" graphics system\n",
      "[INFO   ] [GL          ] GLEW initialization succeeded\n",
      "[INFO   ] [GL          ] Backend used <glew>\n",
      "[INFO   ] [GL          ] OpenGL version <b'4.6.0 - Build 27.20.100.8681'>\n",
      "[INFO   ] [GL          ] OpenGL vendor <b'Intel'>\n",
      "[INFO   ] [GL          ] OpenGL renderer <b'Intel(R) UHD Graphics 620'>\n",
      "[INFO   ] [GL          ] OpenGL parsed version: 4, 6\n",
      "[INFO   ] [GL          ] Shading version <b'4.60 - Build 27.20.100.8681'>\n",
      "[INFO   ] [GL          ] Texture max size <16384>\n",
      "[INFO   ] [GL          ] Texture max units <32>\n",
      "[INFO   ] [Window      ] auto add sdl2 input provider\n",
      "[INFO   ] [Window      ] virtual keyboard not allowed, single mode, not docked\n",
      "[INFO   ] [Base        ] Start application main loop\n",
      "[INFO   ] [GL          ] NPOT texture support is available\n",
      "[INFO   ] [Base        ] Leaving application in progress...\n",
      " <kivy.uix.button.Button object at 0x0000011B96077430>\n"
     ]
    }
   ],
   "source": [
    "!python 4anim.py"
   ]
  }
 ],
 "metadata": {
  "kernelspec": {
   "display_name": "Python 3",
   "language": "python",
   "name": "python3"
  },
  "language_info": {
   "codemirror_mode": {
    "name": "ipython",
    "version": 3
   },
   "file_extension": ".py",
   "mimetype": "text/x-python",
   "name": "python",
   "nbconvert_exporter": "python",
   "pygments_lexer": "ipython3",
   "version": "3.8.5"
  }
 },
 "nbformat": 4,
 "nbformat_minor": 4
}
